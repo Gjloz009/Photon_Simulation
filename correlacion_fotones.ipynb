{
 "cells": [
  {
   "cell_type": "code",
   "execution_count": 3,
   "metadata": {},
   "outputs": [],
   "source": [
    "import random \n",
    "import numpy as np\n",
    "import matplotlib.pyplot as plt"
   ]
  },
  {
   "cell_type": "markdown",
   "metadata": {},
   "source": [
    "### Creamos una función que como resultado final devuelve los valores para la función de correlación de segundo orden $g^{(2)}(0)$"
   ]
  },
  {
   "cell_type": "code",
   "execution_count": 2,
   "metadata": {},
   "outputs": [],
   "source": [
    "def correlacion(t,fot,detect):\n",
    "    # Como primer paso simulamos el conteo de fotones dentro de detectores \n",
    "    proba_1=fot/t\n",
    "    proba_2=detect/t\n",
    "    transmitidos,reflejados,testigos=np.empty(int(t)),np.empty(int(t)),np.empty(int(t))\n",
    "    conteo_test=0\n",
    "    \n",
    "    for  i in range(int(t)):\n",
    "       \n",
    "        if random.random()<=proba_1:\n",
    "            \n",
    "            transmitidos[i]=1\n",
    "        else:\n",
    "            \n",
    "            transmitidos[i]=0\n",
    "        \n",
    "        if random.random()<=proba_1:\n",
    "            \n",
    "            reflejados[i]=1\n",
    "        else:\n",
    "            \n",
    "            reflejados[i]=0\n",
    "    \n",
    "        if random.random()<=proba_2:\n",
    "            \n",
    "            testigos[i]=1\n",
    "            \n",
    "            conteo_test+=1\n",
    "            \n",
    "        else:\n",
    "            \n",
    "            testigos[i]=0\n",
    "    \n",
    "    #----------------------------------\n",
    "    # Contamos los llamados fotones testigos y reflejados de igual manera es un conteo aleatorio\n",
    "    a=np.zeros(len(transmitidos))\n",
    "    b=np.zeros(len(reflejados))\n",
    "    \n",
    "    for i in range(int(t)):\n",
    "    \n",
    "        if random.random()>=0.5:\n",
    "            \n",
    "            a[i]=testigos[i]\n",
    "        else:\n",
    "            \n",
    "            b[i]=testigos[i]\n",
    "            \n",
    "        \n",
    "    #---------------------------------\n",
    "    #Hacemos un conteo total de transmitidos y reflejados\n",
    "    suma_transmitidos=transmitidos+a\n",
    "    \n",
    "    suma_reflejados=reflejados+b\n",
    "    \n",
    "    total_tr=0\n",
    "    \n",
    "    total_ref=0\n",
    "    \n",
    "    for i in range(int(t)):\n",
    "        \n",
    "        if suma_transmitidos[i]!=0:\n",
    "            \n",
    "            total_tr+=1\n",
    "            \n",
    "        if suma_reflejados[i]!=0:\n",
    "            \n",
    "            total_ref+=1\n",
    "    #---------------------------------\n",
    "    #Hacemos un conteo de coincidencias\n",
    "    \n",
    "    coincidencias_TR=0\n",
    "    \n",
    "    coincidencias_TRT=0\n",
    "    \n",
    "    coincidencias_TT=0\n",
    "    \n",
    "    coincidencias_RT=0\n",
    "    \n",
    "    for i in range(int(t)):\n",
    "        \n",
    "        if (suma_transmitidos[i]*suma_reflejados[i])!=0:\n",
    "            \n",
    "            coincidencias_TR+=1\n",
    "            \n",
    "        if (suma_transmitidos[i]*suma_reflejados[i]*testigos[i])!=0:\n",
    "            \n",
    "            coincidencias_TRT+=1\n",
    "            \n",
    "        if (suma_transmitidos[i]*testigos[i])!=0:\n",
    "            \n",
    "            coincidencias_TT+=1\n",
    "            \n",
    "        if (suma_reflejados[i]*testigos[i])!=0:\n",
    "            \n",
    "            coincidencias_RT+=1\n",
    "    #--------------------------------\n",
    "    #Obtenemos los valores de ineteres\n",
    "    \n",
    "    g_2=(coincidencias_TR/(total_ref*total_tr))*(t*1)\n",
    "    \n",
    "    g_3=(coincidencias_TRT/(coincidencias_TT*coincidencias_RT))*(conteo_test)\n",
    "    \n",
    "    return [g_2,g_3]"
   ]
  },
  {
   "cell_type": "markdown",
   "metadata": {},
   "source": [
    "Hacemos algunas pruebas de nuestra función"
   ]
  },
  {
   "cell_type": "code",
   "execution_count": 3,
   "metadata": {},
   "outputs": [
    {
     "data": {
      "text/plain": [
       "[0.9992907449954357, 0.9223066379516396]"
      ]
     },
     "execution_count": 3,
     "metadata": {},
     "output_type": "execute_result"
    }
   ],
   "source": [
    "correlacion(9E5,5E5,5E3)"
   ]
  },
  {
   "cell_type": "markdown",
   "metadata": {},
   "source": [
    "Se crean diferentes simulaciones con diferentes valores de entrada para obtener resultados comparables"
   ]
  },
  {
   "cell_type": "code",
   "execution_count": 173,
   "metadata": {},
   "outputs": [
    {
     "name": "stdout",
     "output_type": "stream",
     "text": [
      "[1.0004898401097806, 0.8887754002994]\n",
      "[0.9993611787193526, 0.8957568964492828]\n",
      "[1.000505048911605, 0.8895778447298219]\n",
      "[1.0007273769902618, 0.8878063414151608]\n"
     ]
    }
   ],
   "source": [
    "for i in range(4):\n",
    "    print(correlacion(1E6,5E5,5E3))"
   ]
  },
  {
   "cell_type": "markdown",
   "metadata": {},
   "source": [
    "Se obtienen los promedios y las desviaciones de las diferentes simulaciones"
   ]
  },
  {
   "cell_type": "code",
   "execution_count": 1,
   "metadata": {},
   "outputs": [],
   "source": [
    "g_2_means=[1.00209933,1.00017904,0.99928267,0.99946395,0.99998613,0.99999403,1.00004382,1.0,1.0]\n",
    "g_3_means=[0.06486831,0.18108329,0.32953994,0.39443264,0.48980452,0.64040931,0.88701926,1.0,1.0]\n",
    "g_2_std=[0.01353478,0.0068697,0.00385068,0.0028636,0.00337401,0.00192536,0.00092585,0.0,0.0]\n",
    "g_3_std=[0.00847699,0.0091085,0.01002301,0.00973139,0.01325738,0.00935205,0.00346355,4.96506831e-17,2.02698065e-17]\n",
    "x=[3.3E-8,1E-7,2E-7,2.5E-7,3.3E-7,5E-7,1E-6,2E-6,2.5E-6]"
   ]
  },
  {
   "cell_type": "code",
   "execution_count": 4,
   "metadata": {},
   "outputs": [],
   "source": [
    "g_2_std=np.array(g_2_std)\n",
    "g_3_std=np.array(g_3_std)"
   ]
  },
  {
   "cell_type": "code",
   "execution_count": 5,
   "metadata": {},
   "outputs": [
    {
     "data": {
      "image/png": "[encoded data removed]",
      "text/plain": [
       "<Figure size 504x360 with 1 Axes>"
      ]
     },
     "metadata": {
      "needs_background": "light"
     },
     "output_type": "display_data"
    }
   ],
   "source": [
    "plt.figure(figsize=(7,5))\n",
    "plt.plot(x,g_2_means,'-',color='red',label='$g^{2}(0)_{2}$')\n",
    "plt.plot(x,g_3_means,'-',label='$g^{2}(0)_{3}$')\n",
    "plt.errorbar(x,g_2_means,yerr=g_2_std,fmt='.',ecolor='black',elinewidth=1,capsize=3,barsabove=True,mec='black')\n",
    "plt.errorbar(x,g_3_means,yerr=g_3_std,fmt='.',ecolor='black',elinewidth=1,capsize=3,barsabove=True,mec='black')\n",
    "plt.xlabel(r'$\\tau$')\n",
    "plt.ylabel('$g^{2}(0)_{2},g^{2}(0)_{3}$')\n",
    "plt.legend()\n",
    "plt.grid(True)\n",
    "plt.savefig('ex_2_buena.png')"
   ]
  }
 ],
 "metadata": {
  "kernelspec": {
   "display_name": "Python 3",
   "language": "python",
   "name": "python3"
  },
  "language_info": {
   "codemirror_mode": {
    "name": "ipython",
    "version": 3
   },
   "file_extension": ".py",
   "mimetype": "text/x-python",
   "name": "python",
   "nbconvert_exporter": "python",
   "pygments_lexer": "ipython3",
   "version": "3.8.1"
  }
 },
 "nbformat": 4,
 "nbformat_minor": 4
}
