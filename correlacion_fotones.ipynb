{
 "cells": [
  {
   "cell_type": "code",
   "execution_count": 1,
   "metadata": {},
   "outputs": [],
   "source": [
    "import random \n",
    "import numpy as np\n",
    "import matplotlib.pyplot as plt"
   ]
  },
  {
   "cell_type": "code",
   "execution_count": 2,
   "metadata": {},
   "outputs": [],
   "source": [
    "def correlacion(t,fot,detect):\n",
    "    #tiempo=t #5E7\n",
    "    #fotones=fot #5E5\n",
    "    #fotones_detect=detect #5E3\n",
    "    proba_1=fot/t\n",
    "    proba_2=detect/t\n",
    "    transmitidos,reflejados,testigos=np.empty(int(t)),np.empty(int(t)),np.empty(int(t))\n",
    "    conteo_test=0\n",
    "    \n",
    "    for  i in range(int(t)):\n",
    "        #x=random.random()\n",
    "        if random.random()<=proba_1:\n",
    "            #a=1\n",
    "            transmitidos[i]=1\n",
    "        else:\n",
    "            #a=0\n",
    "            transmitidos[i]=0\n",
    "        #y=random.random()\n",
    "        if random.random()<=proba_1:\n",
    "            #b=1\n",
    "            reflejados[i]=1\n",
    "        else:\n",
    "            #b=0\n",
    "            reflejados[i]=0\n",
    "        #z=random.random()\n",
    "        if random.random()<=proba_2:\n",
    "            #c=1\n",
    "            testigos[i]=1\n",
    "            conteo_test+=1\n",
    "        else:\n",
    "            #c=0\n",
    "            testigos[i]=0\n",
    "        #transmitidos.append(a)\n",
    "        #reflejados.append(b)\n",
    "        #testigos.append(c)\n",
    "    \n",
    "    #----------------------------------\n",
    "    #transmitidos=np.array(transmitidos)\n",
    "    #reflejados=np.array(reflejados)\n",
    "    a=np.zeros(len(transmitidos))\n",
    "    b=np.zeros(len(reflejados))\n",
    "    \n",
    "    for i in range(int(t)):\n",
    "        #q=random.random()\n",
    "        if random.random()>=0.5:\n",
    "            a[i]=testigos[i]\n",
    "        else:\n",
    "            b[i]=testigos[i]\n",
    "            \n",
    "        \n",
    "    #---------------------------------\n",
    "    suma_transmitidos=transmitidos+a\n",
    "    suma_reflejados=reflejados+b\n",
    "    total_tr=0\n",
    "    total_ref=0\n",
    "    for i in range(int(t)):\n",
    "        if suma_transmitidos[i]!=0:\n",
    "            total_tr+=1\n",
    "        if suma_reflejados[i]!=0:\n",
    "            total_ref+=1\n",
    "    #---------------------------------\n",
    "    coincidencias_TR=0\n",
    "    coincidencias_TRT=0\n",
    "    coincidencias_TT=0\n",
    "    coincidencias_RT=0\n",
    "    for i in range(int(t)):\n",
    "        if (suma_transmitidos[i]*suma_reflejados[i])!=0:\n",
    "            coincidencias_TR+=1\n",
    "        if (suma_transmitidos[i]*suma_reflejados[i]*testigos[i])!=0:\n",
    "            coincidencias_TRT+=1\n",
    "        if (suma_transmitidos[i]*testigos[i])!=0:\n",
    "            coincidencias_TT+=1\n",
    "        if (suma_reflejados[i]*testigos[i])!=0:\n",
    "            coincidencias_RT+=1\n",
    "    #--------------------------------\n",
    "    g_2=(coincidencias_TR/(total_ref*total_tr))*(t*1)\n",
    "    g_3=(coincidencias_TRT/(coincidencias_TT*coincidencias_RT))*(conteo_test)\n",
    "    \n",
    "    return [g_2,g_3]"
   ]
  },
  {
   "cell_type": "code",
   "execution_count": 3,
   "metadata": {},
   "outputs": [
    {
     "data": {
      "text/plain": [
       "[0.9992907449954357, 0.9223066379516396]"
      ]
     },
     "execution_count": 3,
     "metadata": {},
     "output_type": "execute_result"
    }
   ],
   "source": [
    "correlacion(9E5,5E5,5E3)"
   ]
  },
  {
   "cell_type": "code",
   "execution_count": 197,
   "metadata": {},
   "outputs": [
    {
     "data": {
      "text/plain": [
       "[0.9962418313478001, 0.31703025558724013]"
      ]
     },
     "execution_count": 197,
     "metadata": {},
     "output_type": "execute_result"
    }
   ],
   "source": [
    "correlacion(5E6,5E5,5E3)"
   ]
  },
  {
   "cell_type": "code",
   "execution_count": 173,
   "metadata": {},
   "outputs": [
    {
     "name": "stdout",
     "output_type": "stream",
     "text": [
      "[1.0004898401097806, 0.8887754002994]\n",
      "[0.9993611787193526, 0.8957568964492828]\n",
      "[1.000505048911605, 0.8895778447298219]\n",
      "[1.0007273769902618, 0.8878063414151608]\n"
     ]
    }
   ],
   "source": [
    "for i in range(4):\n",
    "    print(correlacion(1E6,5E5,5E3))"
   ]
  }
 ],
 "metadata": {
  "kernelspec": {
   "display_name": "Python 3",
   "language": "python",
   "name": "python3"
  },
  "language_info": {
   "codemirror_mode": {
    "name": "ipython",
    "version": 3
   },
   "file_extension": ".py",
   "mimetype": "text/x-python",
   "name": "python",
   "nbconvert_exporter": "python",
   "pygments_lexer": "ipython3",
   "version": "3.8.1"
  }
 },
 "nbformat": 4,
 "nbformat_minor": 4
}
